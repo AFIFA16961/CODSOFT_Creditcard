{
 "cells": [
  {
   "cell_type": "code",
   "execution_count": 1,
   "id": "1cdcbe46",
   "metadata": {
    "_cell_guid": "b1076dfc-b9ad-4769-8c92-a6c4dae69d19",
    "_uuid": "8f2839f25d086af736a60e9eeb907d3b93b6e0e5",
    "execution": {
     "iopub.execute_input": "2023-10-29T15:45:24.487291Z",
     "iopub.status.busy": "2023-10-29T15:45:24.486590Z",
     "iopub.status.idle": "2023-10-29T15:45:24.826939Z",
     "shell.execute_reply": "2023-10-29T15:45:24.824684Z"
    },
    "papermill": {
     "duration": 0.348979,
     "end_time": "2023-10-29T15:45:24.829611",
     "exception": false,
     "start_time": "2023-10-29T15:45:24.480632",
     "status": "completed"
    },
    "tags": []
   },
   "outputs": [],
   "source": [
    "import numpy as np\n",
    "import pandas as pd\n",
    "import matplotlib.pyplot as plt"
   ]
  },
  {
   "cell_type": "code",
   "execution_count": 2,
   "id": "87c0e967",
   "metadata": {
    "execution": {
     "iopub.execute_input": "2023-10-29T15:45:24.840551Z",
     "iopub.status.busy": "2023-10-29T15:45:24.840023Z",
     "iopub.status.idle": "2023-10-29T15:45:28.275088Z",
     "shell.execute_reply": "2023-10-29T15:45:28.273339Z"
    },
    "papermill": {
     "duration": 3.442446,
     "end_time": "2023-10-29T15:45:28.277990",
     "exception": false,
     "start_time": "2023-10-29T15:45:24.835544",
     "status": "completed"
    },
    "tags": []
   },
   "outputs": [],
   "source": [
    "cd = pd.read_csv('/kaggle/input/credit-card/creditcard.csv')"
   ]
  },
  {
   "cell_type": "code",
   "execution_count": 3,
   "id": "ae4bced4",
   "metadata": {
    "execution": {
     "iopub.execute_input": "2023-10-29T15:45:28.290427Z",
     "iopub.status.busy": "2023-10-29T15:45:28.288641Z",
     "iopub.status.idle": "2023-10-29T15:45:28.348528Z",
     "shell.execute_reply": "2023-10-29T15:45:28.347324Z"
    },
    "papermill": {
     "duration": 0.07208,
     "end_time": "2023-10-29T15:45:28.354345",
     "exception": false,
     "start_time": "2023-10-29T15:45:28.282265",
     "status": "completed"
    },
    "tags": []
   },
   "outputs": [
    {
     "name": "stdout",
     "output_type": "stream",
     "text": [
      "<class 'pandas.core.frame.DataFrame'>\n",
      "RangeIndex: 284807 entries, 0 to 284806\n",
      "Data columns (total 31 columns):\n",
      " #   Column  Non-Null Count   Dtype  \n",
      "---  ------  --------------   -----  \n",
      " 0   Time    284807 non-null  float64\n",
      " 1   V1      284807 non-null  float64\n",
      " 2   V2      284807 non-null  float64\n",
      " 3   V3      284807 non-null  float64\n",
      " 4   V4      284807 non-null  float64\n",
      " 5   V5      284807 non-null  float64\n",
      " 6   V6      284807 non-null  float64\n",
      " 7   V7      284807 non-null  float64\n",
      " 8   V8      284807 non-null  float64\n",
      " 9   V9      284807 non-null  float64\n",
      " 10  V10     284807 non-null  float64\n",
      " 11  V11     284807 non-null  float64\n",
      " 12  V12     284807 non-null  float64\n",
      " 13  V13     284807 non-null  float64\n",
      " 14  V14     284807 non-null  float64\n",
      " 15  V15     284807 non-null  float64\n",
      " 16  V16     284807 non-null  float64\n",
      " 17  V17     284807 non-null  float64\n",
      " 18  V18     284807 non-null  float64\n",
      " 19  V19     284807 non-null  float64\n",
      " 20  V20     284807 non-null  float64\n",
      " 21  V21     284807 non-null  float64\n",
      " 22  V22     284807 non-null  float64\n",
      " 23  V23     284807 non-null  float64\n",
      " 24  V24     284807 non-null  float64\n",
      " 25  V25     284807 non-null  float64\n",
      " 26  V26     284807 non-null  float64\n",
      " 27  V27     284807 non-null  float64\n",
      " 28  V28     284807 non-null  float64\n",
      " 29  Amount  284807 non-null  float64\n",
      " 30  Class   284807 non-null  int64  \n",
      "dtypes: float64(30), int64(1)\n",
      "memory usage: 67.4 MB\n"
     ]
    }
   ],
   "source": [
    "cd.info()"
   ]
  },
  {
   "cell_type": "code",
   "execution_count": 4,
   "id": "d3dbb77e",
   "metadata": {
    "execution": {
     "iopub.execute_input": "2023-10-29T15:45:28.363513Z",
     "iopub.status.busy": "2023-10-29T15:45:28.363150Z",
     "iopub.status.idle": "2023-10-29T15:45:28.780437Z",
     "shell.execute_reply": "2023-10-29T15:45:28.779241Z"
    },
    "papermill": {
     "duration": 0.424325,
     "end_time": "2023-10-29T15:45:28.782955",
     "exception": false,
     "start_time": "2023-10-29T15:45:28.358630",
     "status": "completed"
    },
    "tags": []
   },
   "outputs": [
    {
     "data": {
      "text/html": [
       "<div>\n",
       "<style scoped>\n",
       "    .dataframe tbody tr th:only-of-type {\n",
       "        vertical-align: middle;\n",
       "    }\n",
       "\n",
       "    .dataframe tbody tr th {\n",
       "        vertical-align: top;\n",
       "    }\n",
       "\n",
       "    .dataframe thead th {\n",
       "        text-align: right;\n",
       "    }\n",
       "</style>\n",
       "<table border=\"1\" class=\"dataframe\">\n",
       "  <thead>\n",
       "    <tr style=\"text-align: right;\">\n",
       "      <th></th>\n",
       "      <th>Time</th>\n",
       "      <th>V1</th>\n",
       "      <th>V2</th>\n",
       "      <th>V3</th>\n",
       "      <th>V4</th>\n",
       "      <th>V5</th>\n",
       "      <th>V6</th>\n",
       "      <th>V7</th>\n",
       "      <th>V8</th>\n",
       "      <th>V9</th>\n",
       "      <th>...</th>\n",
       "      <th>V21</th>\n",
       "      <th>V22</th>\n",
       "      <th>V23</th>\n",
       "      <th>V24</th>\n",
       "      <th>V25</th>\n",
       "      <th>V26</th>\n",
       "      <th>V27</th>\n",
       "      <th>V28</th>\n",
       "      <th>Amount</th>\n",
       "      <th>Class</th>\n",
       "    </tr>\n",
       "  </thead>\n",
       "  <tbody>\n",
       "    <tr>\n",
       "      <th>count</th>\n",
       "      <td>284807.000000</td>\n",
       "      <td>2.848070e+05</td>\n",
       "      <td>2.848070e+05</td>\n",
       "      <td>2.848070e+05</td>\n",
       "      <td>2.848070e+05</td>\n",
       "      <td>2.848070e+05</td>\n",
       "      <td>2.848070e+05</td>\n",
       "      <td>2.848070e+05</td>\n",
       "      <td>2.848070e+05</td>\n",
       "      <td>2.848070e+05</td>\n",
       "      <td>...</td>\n",
       "      <td>2.848070e+05</td>\n",
       "      <td>2.848070e+05</td>\n",
       "      <td>2.848070e+05</td>\n",
       "      <td>2.848070e+05</td>\n",
       "      <td>2.848070e+05</td>\n",
       "      <td>2.848070e+05</td>\n",
       "      <td>2.848070e+05</td>\n",
       "      <td>2.848070e+05</td>\n",
       "      <td>284807.000000</td>\n",
       "      <td>284807.000000</td>\n",
       "    </tr>\n",
       "    <tr>\n",
       "      <th>mean</th>\n",
       "      <td>94813.859575</td>\n",
       "      <td>1.168375e-15</td>\n",
       "      <td>3.416908e-16</td>\n",
       "      <td>-1.379537e-15</td>\n",
       "      <td>2.074095e-15</td>\n",
       "      <td>9.604066e-16</td>\n",
       "      <td>1.487313e-15</td>\n",
       "      <td>-5.556467e-16</td>\n",
       "      <td>1.213481e-16</td>\n",
       "      <td>-2.406331e-15</td>\n",
       "      <td>...</td>\n",
       "      <td>1.654067e-16</td>\n",
       "      <td>-3.568593e-16</td>\n",
       "      <td>2.578648e-16</td>\n",
       "      <td>4.473266e-15</td>\n",
       "      <td>5.340915e-16</td>\n",
       "      <td>1.683437e-15</td>\n",
       "      <td>-3.660091e-16</td>\n",
       "      <td>-1.227390e-16</td>\n",
       "      <td>88.349619</td>\n",
       "      <td>0.001727</td>\n",
       "    </tr>\n",
       "    <tr>\n",
       "      <th>std</th>\n",
       "      <td>47488.145955</td>\n",
       "      <td>1.958696e+00</td>\n",
       "      <td>1.651309e+00</td>\n",
       "      <td>1.516255e+00</td>\n",
       "      <td>1.415869e+00</td>\n",
       "      <td>1.380247e+00</td>\n",
       "      <td>1.332271e+00</td>\n",
       "      <td>1.237094e+00</td>\n",
       "      <td>1.194353e+00</td>\n",
       "      <td>1.098632e+00</td>\n",
       "      <td>...</td>\n",
       "      <td>7.345240e-01</td>\n",
       "      <td>7.257016e-01</td>\n",
       "      <td>6.244603e-01</td>\n",
       "      <td>6.056471e-01</td>\n",
       "      <td>5.212781e-01</td>\n",
       "      <td>4.822270e-01</td>\n",
       "      <td>4.036325e-01</td>\n",
       "      <td>3.300833e-01</td>\n",
       "      <td>250.120109</td>\n",
       "      <td>0.041527</td>\n",
       "    </tr>\n",
       "    <tr>\n",
       "      <th>min</th>\n",
       "      <td>0.000000</td>\n",
       "      <td>-5.640751e+01</td>\n",
       "      <td>-7.271573e+01</td>\n",
       "      <td>-4.832559e+01</td>\n",
       "      <td>-5.683171e+00</td>\n",
       "      <td>-1.137433e+02</td>\n",
       "      <td>-2.616051e+01</td>\n",
       "      <td>-4.355724e+01</td>\n",
       "      <td>-7.321672e+01</td>\n",
       "      <td>-1.343407e+01</td>\n",
       "      <td>...</td>\n",
       "      <td>-3.483038e+01</td>\n",
       "      <td>-1.093314e+01</td>\n",
       "      <td>-4.480774e+01</td>\n",
       "      <td>-2.836627e+00</td>\n",
       "      <td>-1.029540e+01</td>\n",
       "      <td>-2.604551e+00</td>\n",
       "      <td>-2.256568e+01</td>\n",
       "      <td>-1.543008e+01</td>\n",
       "      <td>0.000000</td>\n",
       "      <td>0.000000</td>\n",
       "    </tr>\n",
       "    <tr>\n",
       "      <th>25%</th>\n",
       "      <td>54201.500000</td>\n",
       "      <td>-9.203734e-01</td>\n",
       "      <td>-5.985499e-01</td>\n",
       "      <td>-8.903648e-01</td>\n",
       "      <td>-8.486401e-01</td>\n",
       "      <td>-6.915971e-01</td>\n",
       "      <td>-7.682956e-01</td>\n",
       "      <td>-5.540759e-01</td>\n",
       "      <td>-2.086297e-01</td>\n",
       "      <td>-6.430976e-01</td>\n",
       "      <td>...</td>\n",
       "      <td>-2.283949e-01</td>\n",
       "      <td>-5.423504e-01</td>\n",
       "      <td>-1.618463e-01</td>\n",
       "      <td>-3.545861e-01</td>\n",
       "      <td>-3.171451e-01</td>\n",
       "      <td>-3.269839e-01</td>\n",
       "      <td>-7.083953e-02</td>\n",
       "      <td>-5.295979e-02</td>\n",
       "      <td>5.600000</td>\n",
       "      <td>0.000000</td>\n",
       "    </tr>\n",
       "    <tr>\n",
       "      <th>50%</th>\n",
       "      <td>84692.000000</td>\n",
       "      <td>1.810880e-02</td>\n",
       "      <td>6.548556e-02</td>\n",
       "      <td>1.798463e-01</td>\n",
       "      <td>-1.984653e-02</td>\n",
       "      <td>-5.433583e-02</td>\n",
       "      <td>-2.741871e-01</td>\n",
       "      <td>4.010308e-02</td>\n",
       "      <td>2.235804e-02</td>\n",
       "      <td>-5.142873e-02</td>\n",
       "      <td>...</td>\n",
       "      <td>-2.945017e-02</td>\n",
       "      <td>6.781943e-03</td>\n",
       "      <td>-1.119293e-02</td>\n",
       "      <td>4.097606e-02</td>\n",
       "      <td>1.659350e-02</td>\n",
       "      <td>-5.213911e-02</td>\n",
       "      <td>1.342146e-03</td>\n",
       "      <td>1.124383e-02</td>\n",
       "      <td>22.000000</td>\n",
       "      <td>0.000000</td>\n",
       "    </tr>\n",
       "    <tr>\n",
       "      <th>75%</th>\n",
       "      <td>139320.500000</td>\n",
       "      <td>1.315642e+00</td>\n",
       "      <td>8.037239e-01</td>\n",
       "      <td>1.027196e+00</td>\n",
       "      <td>7.433413e-01</td>\n",
       "      <td>6.119264e-01</td>\n",
       "      <td>3.985649e-01</td>\n",
       "      <td>5.704361e-01</td>\n",
       "      <td>3.273459e-01</td>\n",
       "      <td>5.971390e-01</td>\n",
       "      <td>...</td>\n",
       "      <td>1.863772e-01</td>\n",
       "      <td>5.285536e-01</td>\n",
       "      <td>1.476421e-01</td>\n",
       "      <td>4.395266e-01</td>\n",
       "      <td>3.507156e-01</td>\n",
       "      <td>2.409522e-01</td>\n",
       "      <td>9.104512e-02</td>\n",
       "      <td>7.827995e-02</td>\n",
       "      <td>77.165000</td>\n",
       "      <td>0.000000</td>\n",
       "    </tr>\n",
       "    <tr>\n",
       "      <th>max</th>\n",
       "      <td>172792.000000</td>\n",
       "      <td>2.454930e+00</td>\n",
       "      <td>2.205773e+01</td>\n",
       "      <td>9.382558e+00</td>\n",
       "      <td>1.687534e+01</td>\n",
       "      <td>3.480167e+01</td>\n",
       "      <td>7.330163e+01</td>\n",
       "      <td>1.205895e+02</td>\n",
       "      <td>2.000721e+01</td>\n",
       "      <td>1.559499e+01</td>\n",
       "      <td>...</td>\n",
       "      <td>2.720284e+01</td>\n",
       "      <td>1.050309e+01</td>\n",
       "      <td>2.252841e+01</td>\n",
       "      <td>4.584549e+00</td>\n",
       "      <td>7.519589e+00</td>\n",
       "      <td>3.517346e+00</td>\n",
       "      <td>3.161220e+01</td>\n",
       "      <td>3.384781e+01</td>\n",
       "      <td>25691.160000</td>\n",
       "      <td>1.000000</td>\n",
       "    </tr>\n",
       "  </tbody>\n",
       "</table>\n",
       "<p>8 rows × 31 columns</p>\n",
       "</div>"
      ],
      "text/plain": [
       "                Time            V1            V2            V3            V4  \\\n",
       "count  284807.000000  2.848070e+05  2.848070e+05  2.848070e+05  2.848070e+05   \n",
       "mean    94813.859575  1.168375e-15  3.416908e-16 -1.379537e-15  2.074095e-15   \n",
       "std     47488.145955  1.958696e+00  1.651309e+00  1.516255e+00  1.415869e+00   \n",
       "min         0.000000 -5.640751e+01 -7.271573e+01 -4.832559e+01 -5.683171e+00   \n",
       "25%     54201.500000 -9.203734e-01 -5.985499e-01 -8.903648e-01 -8.486401e-01   \n",
       "50%     84692.000000  1.810880e-02  6.548556e-02  1.798463e-01 -1.984653e-02   \n",
       "75%    139320.500000  1.315642e+00  8.037239e-01  1.027196e+00  7.433413e-01   \n",
       "max    172792.000000  2.454930e+00  2.205773e+01  9.382558e+00  1.687534e+01   \n",
       "\n",
       "                 V5            V6            V7            V8            V9  \\\n",
       "count  2.848070e+05  2.848070e+05  2.848070e+05  2.848070e+05  2.848070e+05   \n",
       "mean   9.604066e-16  1.487313e-15 -5.556467e-16  1.213481e-16 -2.406331e-15   \n",
       "std    1.380247e+00  1.332271e+00  1.237094e+00  1.194353e+00  1.098632e+00   \n",
       "min   -1.137433e+02 -2.616051e+01 -4.355724e+01 -7.321672e+01 -1.343407e+01   \n",
       "25%   -6.915971e-01 -7.682956e-01 -5.540759e-01 -2.086297e-01 -6.430976e-01   \n",
       "50%   -5.433583e-02 -2.741871e-01  4.010308e-02  2.235804e-02 -5.142873e-02   \n",
       "75%    6.119264e-01  3.985649e-01  5.704361e-01  3.273459e-01  5.971390e-01   \n",
       "max    3.480167e+01  7.330163e+01  1.205895e+02  2.000721e+01  1.559499e+01   \n",
       "\n",
       "       ...           V21           V22           V23           V24  \\\n",
       "count  ...  2.848070e+05  2.848070e+05  2.848070e+05  2.848070e+05   \n",
       "mean   ...  1.654067e-16 -3.568593e-16  2.578648e-16  4.473266e-15   \n",
       "std    ...  7.345240e-01  7.257016e-01  6.244603e-01  6.056471e-01   \n",
       "min    ... -3.483038e+01 -1.093314e+01 -4.480774e+01 -2.836627e+00   \n",
       "25%    ... -2.283949e-01 -5.423504e-01 -1.618463e-01 -3.545861e-01   \n",
       "50%    ... -2.945017e-02  6.781943e-03 -1.119293e-02  4.097606e-02   \n",
       "75%    ...  1.863772e-01  5.285536e-01  1.476421e-01  4.395266e-01   \n",
       "max    ...  2.720284e+01  1.050309e+01  2.252841e+01  4.584549e+00   \n",
       "\n",
       "                V25           V26           V27           V28         Amount  \\\n",
       "count  2.848070e+05  2.848070e+05  2.848070e+05  2.848070e+05  284807.000000   \n",
       "mean   5.340915e-16  1.683437e-15 -3.660091e-16 -1.227390e-16      88.349619   \n",
       "std    5.212781e-01  4.822270e-01  4.036325e-01  3.300833e-01     250.120109   \n",
       "min   -1.029540e+01 -2.604551e+00 -2.256568e+01 -1.543008e+01       0.000000   \n",
       "25%   -3.171451e-01 -3.269839e-01 -7.083953e-02 -5.295979e-02       5.600000   \n",
       "50%    1.659350e-02 -5.213911e-02  1.342146e-03  1.124383e-02      22.000000   \n",
       "75%    3.507156e-01  2.409522e-01  9.104512e-02  7.827995e-02      77.165000   \n",
       "max    7.519589e+00  3.517346e+00  3.161220e+01  3.384781e+01   25691.160000   \n",
       "\n",
       "               Class  \n",
       "count  284807.000000  \n",
       "mean        0.001727  \n",
       "std         0.041527  \n",
       "min         0.000000  \n",
       "25%         0.000000  \n",
       "50%         0.000000  \n",
       "75%         0.000000  \n",
       "max         1.000000  \n",
       "\n",
       "[8 rows x 31 columns]"
      ]
     },
     "execution_count": 4,
     "metadata": {},
     "output_type": "execute_result"
    }
   ],
   "source": [
    "cd.describe()"
   ]
  },
  {
   "cell_type": "code",
   "execution_count": 5,
   "id": "e56efa38",
   "metadata": {
    "execution": {
     "iopub.execute_input": "2023-10-29T15:45:28.793631Z",
     "iopub.status.busy": "2023-10-29T15:45:28.792054Z",
     "iopub.status.idle": "2023-10-29T15:45:28.811417Z",
     "shell.execute_reply": "2023-10-29T15:45:28.809753Z"
    },
    "papermill": {
     "duration": 0.02693,
     "end_time": "2023-10-29T15:45:28.813762",
     "exception": false,
     "start_time": "2023-10-29T15:45:28.786832",
     "status": "completed"
    },
    "tags": []
   },
   "outputs": [
    {
     "data": {
      "text/plain": [
       "Time      0\n",
       "V1        0\n",
       "V2        0\n",
       "V3        0\n",
       "V4        0\n",
       "V5        0\n",
       "V6        0\n",
       "V7        0\n",
       "V8        0\n",
       "V9        0\n",
       "V10       0\n",
       "V11       0\n",
       "V12       0\n",
       "V13       0\n",
       "V14       0\n",
       "V15       0\n",
       "V16       0\n",
       "V17       0\n",
       "V18       0\n",
       "V19       0\n",
       "V20       0\n",
       "V21       0\n",
       "V22       0\n",
       "V23       0\n",
       "V24       0\n",
       "V25       0\n",
       "V26       0\n",
       "V27       0\n",
       "V28       0\n",
       "Amount    0\n",
       "Class     0\n",
       "dtype: int64"
      ]
     },
     "execution_count": 5,
     "metadata": {},
     "output_type": "execute_result"
    }
   ],
   "source": [
    "cd.isnull().sum()"
   ]
  },
  {
   "cell_type": "code",
   "execution_count": 6,
   "id": "b4f3c862",
   "metadata": {
    "execution": {
     "iopub.execute_input": "2023-10-29T15:45:28.823339Z",
     "iopub.status.busy": "2023-10-29T15:45:28.822937Z",
     "iopub.status.idle": "2023-10-29T15:45:30.823937Z",
     "shell.execute_reply": "2023-10-29T15:45:30.822034Z"
    },
    "papermill": {
     "duration": 2.009226,
     "end_time": "2023-10-29T15:45:30.826836",
     "exception": false,
     "start_time": "2023-10-29T15:45:28.817610",
     "status": "completed"
    },
    "tags": []
   },
   "outputs": [],
   "source": [
    "import seaborn as sn\n",
    "from sklearn.utils import shuffle\n",
    "from sklearn import preprocessing\n",
    "from sklearn.preprocessing import StandardScaler\n",
    "sn.set()"
   ]
  },
  {
   "cell_type": "code",
   "execution_count": 7,
   "id": "ea196ce9",
   "metadata": {
    "execution": {
     "iopub.execute_input": "2023-10-29T15:45:30.837588Z",
     "iopub.status.busy": "2023-10-29T15:45:30.837141Z",
     "iopub.status.idle": "2023-10-29T15:45:30.842999Z",
     "shell.execute_reply": "2023-10-29T15:45:30.842062Z"
    },
    "papermill": {
     "duration": 0.013772,
     "end_time": "2023-10-29T15:45:30.844830",
     "exception": false,
     "start_time": "2023-10-29T15:45:30.831058",
     "status": "completed"
    },
    "tags": []
   },
   "outputs": [],
   "source": [
    "def boxplot_columns(ds):\n",
    "    for j in range(2,(len(ds.columns)+2),2):\n",
    "            f , ax = plt.subplots(1,2, figsize=(12,2))\n",
    "            sn.boxplot(x=ds[ds.columns[j-2]], ax=ax[0])\n",
    "            sn.boxplot(x=ds[ds.columns[j-1]], ax=ax[1])"
   ]
  },
  {
   "cell_type": "code",
   "execution_count": 8,
   "id": "6175c47c",
   "metadata": {
    "execution": {
     "iopub.execute_input": "2023-10-29T15:45:30.854823Z",
     "iopub.status.busy": "2023-10-29T15:45:30.854177Z",
     "iopub.status.idle": "2023-10-29T15:45:30.861140Z",
     "shell.execute_reply": "2023-10-29T15:45:30.859886Z"
    },
    "papermill": {
     "duration": 0.015437,
     "end_time": "2023-10-29T15:45:30.864327",
     "exception": false,
     "start_time": "2023-10-29T15:45:30.848890",
     "status": "completed"
    },
    "tags": []
   },
   "outputs": [],
   "source": [
    "def histplots(ds):\n",
    "    fig, ax = plt.subplots(2,2, figsize=(20,8))\n",
    "\n",
    "    Val_Fraud = ds['Time'][ds['Class'] == 1]\n",
    "    Val_nFraud = ds['Amount'][ds['Class'] == 0]\n",
    "\n",
    "    sn.histplot(data=ds, x='Time', ax=ax[0,0])\n",
    "\n",
    "    sn.histplot(data=ds, x='Amount', ax=ax[0,1])\n",
    "\n",
    "    sn.histplot(Val_Fraud, ax=ax[1,0])\n",
    "\n",
    "    sn.histplot(Val_nFraud, ax=ax[1,1])"
   ]
  },
  {
   "cell_type": "code",
   "execution_count": 9,
   "id": "49e0b186",
   "metadata": {
    "execution": {
     "iopub.execute_input": "2023-10-29T15:45:30.873704Z",
     "iopub.status.busy": "2023-10-29T15:45:30.873347Z",
     "iopub.status.idle": "2023-10-29T15:45:30.885197Z",
     "shell.execute_reply": "2023-10-29T15:45:30.883256Z"
    },
    "papermill": {
     "duration": 0.020036,
     "end_time": "2023-10-29T15:45:30.888334",
     "exception": false,
     "start_time": "2023-10-29T15:45:30.868298",
     "status": "completed"
    },
    "tags": []
   },
   "outputs": [
    {
     "name": "stdout",
     "output_type": "stream",
     "text": [
      "Percernt of Frauds on data: 0.172749\n",
      "Total sum of frauds: 492.000000\n",
      "Percernt of Non Frauds on data: 99.827251\n",
      "Total sum of Non frauds: 284315.000000\n"
     ]
    }
   ],
   "source": [
    "Total_count = cd['Class'].value_counts()\n",
    "print(\"Percernt of Frauds on data: %f\" % (Total_count[1]*100/Total_count.sum()))\n",
    "print(\"Total sum of frauds: %f\" % (Total_count[1]))\n",
    "print(\"Percernt of Non Frauds on data: %f\" % (Total_count[0]*100/Total_count.sum()))\n",
    "print(\"Total sum of Non frauds: %f\" % (Total_count[0]))"
   ]
  },
  {
   "cell_type": "code",
   "execution_count": 10,
   "id": "83ab9838",
   "metadata": {
    "execution": {
     "iopub.execute_input": "2023-10-29T15:45:30.898908Z",
     "iopub.status.busy": "2023-10-29T15:45:30.897834Z",
     "iopub.status.idle": "2023-10-29T15:45:48.397255Z",
     "shell.execute_reply": "2023-10-29T15:45:48.396146Z"
    },
    "papermill": {
     "duration": 17.507312,
     "end_time": "2023-10-29T15:45:48.399851",
     "exception": false,
     "start_time": "2023-10-29T15:45:30.892539",
     "status": "completed"
    },
    "tags": []
   },
   "outputs": [
    {
     "name": "stdout",
     "output_type": "stream",
     "text": [
      "count    284807.000000\n",
      "mean         88.349619\n",
      "std         250.120109\n",
      "min           0.000000\n",
      "25%           5.600000\n",
      "50%          22.000000\n",
      "75%          77.165000\n",
      "max       25691.160000\n",
      "Name: Amount, dtype: float64\n",
      "Amount Skewness 16.977724\n"
     ]
    },
    {
     "data": {
      "text/plain": [
       "<Axes: xlabel='Amount', ylabel='Count'>"
      ]
     },
     "execution_count": 10,
     "metadata": {},
     "output_type": "execute_result"
    },
    {
     "data": {
      "image/png": "[encoded data removed]",
      "text/plain": [
       "<Figure size 600x200 with 1 Axes>"
      ]
     },
     "metadata": {},
     "output_type": "display_data"
    }
   ],
   "source": [
    "print(cd['Amount'].describe())\n",
    "print(\"Amount Skewness %f\" % cd['Amount'].skew())\n",
    "plt.figure(figsize=(6, 2))\n",
    "sn.histplot(cd['Amount'])"
   ]
  },
  {
   "cell_type": "code",
   "execution_count": 11,
   "id": "fdd97d13",
   "metadata": {
    "execution": {
     "iopub.execute_input": "2023-10-29T15:45:48.410629Z",
     "iopub.status.busy": "2023-10-29T15:45:48.410179Z",
     "iopub.status.idle": "2023-10-29T15:46:20.296854Z",
     "shell.execute_reply": "2023-10-29T15:46:20.295380Z"
    },
    "papermill": {
     "duration": 31.898882,
     "end_time": "2023-10-29T15:46:20.303432",
     "exception": false,
     "start_time": "2023-10-29T15:45:48.404550",
     "status": "completed"
    },
    "tags": []
   },
   "outputs": [
    {
     "data": {
      "image/png": "[encoded data removed]",
      "text/plain": [
       "<Figure size 2000x800 with 6 Axes>"
      ]
     },
     "metadata": {},
     "output_type": "display_data"
    }
   ],
   "source": [
    "fig, ax = plt.subplots(3,2, figsize=(20,8))\n",
    "#Time and amount for Frauds Series.\n",
    "Val_Time_Fraud = cd['Time'][cd['Class'] == 1]\n",
    "Val_Amount_Fraud = cd['Amount'][cd['Class'] == 1]\n",
    "    \n",
    "#Time and amount for nonFrauds Series.\n",
    "Val_Time_nFraud = cd['Time'][cd['Class'] == 0]\n",
    "Val_Amount_nFraud = cd['Amount'][cd['Class'] == 0]\n",
    "    \n",
    "#Total data Hisplots\n",
    "sn.histplot(data=cd, x='Time', ax=ax[0,0])\n",
    "ax[0,0].set_title('Total dataframe Time')\n",
    "\n",
    "sn.histplot(data=cd, x='Amount', ax=ax[0,1])\n",
    "ax[0,1].set_title('Total dataframe Amount')\n",
    "ax[0,1].set_xlim(0,100)\n",
    "    \n",
    "#Fraud data Hisplots\n",
    "sn.histplot(Val_Time_Fraud, ax=ax[1,0], color='Orange')\n",
    "ax[1,0].set_title('Total dataframe Time')\n",
    "\n",
    "sn.histplot(Val_Amount_Fraud, ax=ax[1,1], color='Blue')\n",
    "ax[1,1].set_title('Total dataframe Amount')\n",
    "ax[1,1].set_xlim(0,100)\n",
    "    \n",
    "#Non Fraud data Hisplots\n",
    "sn.histplot(Val_Time_nFraud, ax=ax[2,0], color='Red')\n",
    "ax[2,0].set_title('Total dataframe Amount')\n",
    "\n",
    "sn.histplot(Val_Amount_nFraud, ax=ax[2,1], color='Brown')\n",
    "ax[2,1].set_title('Total dataframe Amount')\n",
    "ax[2,1].set_xlim(0,100)\n",
    "    \n",
    "plt.tight_layout()  #To adjust Subplots\n",
    "plt.show()"
   ]
  },
  {
   "cell_type": "code",
   "execution_count": 12,
   "id": "fe1d1402",
   "metadata": {
    "execution": {
     "iopub.execute_input": "2023-10-29T15:46:20.315410Z",
     "iopub.status.busy": "2023-10-29T15:46:20.315027Z",
     "iopub.status.idle": "2023-10-29T15:46:20.641411Z",
     "shell.execute_reply": "2023-10-29T15:46:20.640456Z"
    },
    "papermill": {
     "duration": 0.334895,
     "end_time": "2023-10-29T15:46:20.643534",
     "exception": false,
     "start_time": "2023-10-29T15:46:20.308639",
     "status": "completed"
    },
    "tags": []
   },
   "outputs": [
    {
     "name": "stdout",
     "output_type": "stream",
     "text": [
      "Fraud Visualization\n"
     ]
    },
    {
     "data": {
      "image/png": "[encoded data removed]",
      "text/plain": [
       "<Figure size 640x480 with 1 Axes>"
      ]
     },
     "metadata": {},
     "output_type": "display_data"
    }
   ],
   "source": [
    "print('Fraud Visualization')\n",
    "sn.histplot(x=cd['Amount'][cd['Class']==1])\n",
    "plt.show()"
   ]
  }
 ],
 "metadata": {
  "kernelspec": {
   "display_name": "Python 3",
   "language": "python",
   "name": "python3"
  },
  "language_info": {
   "codemirror_mode": {
    "name": "ipython",
    "version": 3
   },
   "file_extension": ".py",
   "mimetype": "text/x-python",
   "name": "python",
   "nbconvert_exporter": "python",
   "pygments_lexer": "ipython3",
   "version": "3.10.12"
  },
  "papermill": {
   "default_parameters": {},
   "duration": 61.903116,
   "end_time": "2023-10-29T15:46:23.271650",
   "environment_variables": {},
   "exception": null,
   "input_path": "__notebook__.ipynb",
   "output_path": "__notebook__.ipynb",
   "parameters": {},
   "start_time": "2023-10-29T15:45:21.368534",
   "version": "2.4.0"
  }
 },
 "nbformat": 4,
 "nbformat_minor": 5
}
